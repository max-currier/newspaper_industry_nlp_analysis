{
 "cells": [
  {
   "cell_type": "markdown",
   "metadata": {},
   "source": [
    "# EDA"
   ]
  },
  {
   "cell_type": "code",
   "execution_count": 2,
   "metadata": {},
   "outputs": [],
   "source": [
    "# data munging\n",
    "import pandas as pd\n",
    "import numpy as np\n",
    "from copy import deepcopy\n",
    "\n",
    "# text preprocessing\n",
    "import nltk\n",
    "import re\n",
    "import string\n",
    "from nltk.tokenize import word_tokenize\n",
    "from nltk.tokenize import RegexpTokenizer\n",
    "from nltk.stem import PorterStemmer"
   ]
  },
  {
   "cell_type": "markdown",
   "metadata": {},
   "source": [
    "## Importing data\n",
    "### Loading dataframes"
   ]
  },
  {
   "cell_type": "code",
   "execution_count": 3,
   "metadata": {},
   "outputs": [
    {
     "name": "stdout",
     "output_type": "stream",
     "text": [
      "ls: cd: No such file or directory\r\n",
      "data:\r\n",
      "all_articles_clean.csv    doc_topic.csv             time_df_count.csv\r\n",
      "all_articles_topics.csv   movies.csv                time_df_norm.csv\r\n",
      "archive_article_links.csv newspaper_data.xlsx       topic_by_year_df.csv\r\n",
      "archive_article_soups.csv recent_articles_clean.csv topic_word.csv\r\n",
      "archive_articles_raw.csv  recent_articles_raw.csv   user_movie_likes2.csv\r\n",
      "archive_articles_raw2.csv ships.dta                 user_movie_likes_copy.csv\r\n",
      "\u001b[34mbbc\u001b[m\u001b[m                       tableau_topic_dist.csv\r\n",
      "bbc.zip                   time\r\n"
     ]
    }
   ],
   "source": [
    "!ls cd data"
   ]
  },
  {
   "cell_type": "code",
   "execution_count": 4,
   "metadata": {},
   "outputs": [],
   "source": [
    "df1, df2, df3 = (pd.read_csv('data/recent_articles_raw.csv').drop('Unnamed: 0', axis=1),\n",
    "                 pd.read_csv('data/archive_articles_raw.csv').drop('Unnamed: 0', axis=1),\n",
    "                 pd.read_csv('data/archive_articles_raw2.csv').drop('Unnamed: 0', axis=1)\n",
    "                )"
   ]
  },
  {
   "cell_type": "code",
   "execution_count": 5,
   "metadata": {},
   "outputs": [
    {
     "data": {
      "text/plain": [
       "(7023, 6)"
      ]
     },
     "execution_count": 5,
     "metadata": {},
     "output_type": "execute_result"
    }
   ],
   "source": [
    "# recent articles\n",
    "df1.shape"
   ]
  },
  {
   "cell_type": "code",
   "execution_count": 6,
   "metadata": {},
   "outputs": [
    {
     "data": {
      "text/plain": [
       "(74955, 6)"
      ]
     },
     "execution_count": 6,
     "metadata": {},
     "output_type": "execute_result"
    }
   ],
   "source": [
    "# archived articles, part 1\n",
    "df2.shape"
   ]
  },
  {
   "cell_type": "code",
   "execution_count": 7,
   "metadata": {},
   "outputs": [],
   "source": [
    "# dropping rows with missing body_text (scraping error)\n",
    "df2 = df2.iloc[:29672]"
   ]
  },
  {
   "cell_type": "code",
   "execution_count": 8,
   "metadata": {},
   "outputs": [
    {
     "data": {
      "text/plain": [
       "(29672, 6)"
      ]
     },
     "execution_count": 8,
     "metadata": {},
     "output_type": "execute_result"
    }
   ],
   "source": [
    "df2.shape"
   ]
  },
  {
   "cell_type": "code",
   "execution_count": 9,
   "metadata": {},
   "outputs": [
    {
     "data": {
      "text/plain": [
       "(45280, 6)"
      ]
     },
     "execution_count": 9,
     "metadata": {},
     "output_type": "execute_result"
    }
   ],
   "source": [
    "# archived articles, part 2\n",
    "df3.shape"
   ]
  },
  {
   "cell_type": "markdown",
   "metadata": {},
   "source": [
    "### Concatenating dataframes"
   ]
  },
  {
   "cell_type": "code",
   "execution_count": 10,
   "metadata": {},
   "outputs": [],
   "source": [
    "df = (pd.concat([df1, df2, df3])\n",
    "      .reset_index(drop=True))"
   ]
  },
  {
   "cell_type": "code",
   "execution_count": 11,
   "metadata": {},
   "outputs": [
    {
     "data": {
      "text/plain": [
       "(81975, 6)"
      ]
     },
     "execution_count": 11,
     "metadata": {},
     "output_type": "execute_result"
    }
   ],
   "source": [
    "df.shape"
   ]
  },
  {
   "cell_type": "code",
   "execution_count": 12,
   "metadata": {},
   "outputs": [
    {
     "data": {
      "text/plain": [
       "81975"
      ]
     },
     "execution_count": 12,
     "metadata": {},
     "output_type": "execute_result"
    }
   ],
   "source": [
    "len(df)"
   ]
  },
  {
   "cell_type": "markdown",
   "metadata": {},
   "source": [
    "## Text preprocessing\n",
    "### Removing rows with invalid body_text"
   ]
  },
  {
   "cell_type": "markdown",
   "metadata": {},
   "source": [
    "Some rows either have completely missing body_text or only have a youtube link. This will drop those rows and remove URLs from remaining rows. "
   ]
  },
  {
   "cell_type": "code",
   "execution_count": 13,
   "metadata": {},
   "outputs": [
    {
     "data": {
      "text/html": [
       "<div>\n",
       "<style scoped>\n",
       "    .dataframe tbody tr th:only-of-type {\n",
       "        vertical-align: middle;\n",
       "    }\n",
       "\n",
       "    .dataframe tbody tr th {\n",
       "        vertical-align: top;\n",
       "    }\n",
       "\n",
       "    .dataframe thead th {\n",
       "        text-align: right;\n",
       "    }\n",
       "</style>\n",
       "<table border=\"1\" class=\"dataframe\">\n",
       "  <thead>\n",
       "    <tr style=\"text-align: right;\">\n",
       "      <th></th>\n",
       "      <th>title</th>\n",
       "      <th>pub_date</th>\n",
       "      <th>author</th>\n",
       "      <th>source</th>\n",
       "      <th>body_text</th>\n",
       "      <th>url</th>\n",
       "    </tr>\n",
       "  </thead>\n",
       "  <tbody>\n",
       "    <tr>\n",
       "      <th>81972</th>\n",
       "      <td>Scitex expands in Latin America p.</td>\n",
       "      <td>1993-02-27</td>\n",
       "      <td>Jim Rosenberg</td>\n",
       "      <td>NaN</td>\n",
       "      <td>Jim RosenbergBy: Jim Rosenberg    SCITEX EXPAN...</td>\n",
       "      <td>http://www.editorandpublisher.com//stories/sci...</td>\n",
       "    </tr>\n",
       "    <tr>\n",
       "      <th>81973</th>\n",
       "      <td>Child's death inspires Chicago Tribune contest...</td>\n",
       "      <td>1993-02-27</td>\n",
       "      <td>E&amp;P Staff</td>\n",
       "      <td>NaN</td>\n",
       "      <td>E&amp;P StaffBy: Editorial Staff    SEVENTY-ONE YE...</td>\n",
       "      <td>http://www.editorandpublisher.com//stories/chi...</td>\n",
       "    </tr>\n",
       "    <tr>\n",
       "      <th>81974</th>\n",
       "      <td>USPS nixes rule for small papers  p.</td>\n",
       "      <td>1993-02-13</td>\n",
       "      <td>E&amp;P Staff</td>\n",
       "      <td>NaN</td>\n",
       "      <td>E&amp;P StaffBy: Editorial Staff    AFTER A MEETIN...</td>\n",
       "      <td>http://www.editorandpublisher.com//stories/usp...</td>\n",
       "    </tr>\n",
       "  </tbody>\n",
       "</table>\n",
       "</div>"
      ],
      "text/plain": [
       "                                                   title    pub_date  \\\n",
       "81972                 Scitex expands in Latin America p.  1993-02-27   \n",
       "81973  Child's death inspires Chicago Tribune contest...  1993-02-27   \n",
       "81974               USPS nixes rule for small papers  p.  1993-02-13   \n",
       "\n",
       "              author source  \\\n",
       "81972  Jim Rosenberg    NaN   \n",
       "81973      E&P Staff    NaN   \n",
       "81974      E&P Staff    NaN   \n",
       "\n",
       "                                               body_text  \\\n",
       "81972  Jim RosenbergBy: Jim Rosenberg    SCITEX EXPAN...   \n",
       "81973  E&P StaffBy: Editorial Staff    SEVENTY-ONE YE...   \n",
       "81974  E&P StaffBy: Editorial Staff    AFTER A MEETIN...   \n",
       "\n",
       "                                                     url  \n",
       "81972  http://www.editorandpublisher.com//stories/sci...  \n",
       "81973  http://www.editorandpublisher.com//stories/chi...  \n",
       "81974  http://www.editorandpublisher.com//stories/usp...  "
      ]
     },
     "execution_count": 13,
     "metadata": {},
     "output_type": "execute_result"
    }
   ],
   "source": [
    "df.tail(3)"
   ]
  },
  {
   "cell_type": "code",
   "execution_count": 14,
   "metadata": {},
   "outputs": [
    {
     "data": {
      "text/plain": [
       "title        New Albany Herald publisher talks print media'...\n",
       "pub_date                                            2012-02-16\n",
       "author                                               E&P Staff\n",
       "source                                                     NaN\n",
       "body_text                          http://youtu.be/fmLRTiUoxDQ\n",
       "url          http://www.editorandpublisher.com//stories/new...\n",
       "Name: 7022, dtype: object"
      ]
     },
     "execution_count": 14,
     "metadata": {},
     "output_type": "execute_result"
    }
   ],
   "source": [
    "# example of one row\n",
    "\n",
    "df.iloc[7022]"
   ]
  },
  {
   "cell_type": "code",
   "execution_count": 15,
   "metadata": {},
   "outputs": [],
   "source": [
    "df_clean = deepcopy(df)"
   ]
  },
  {
   "cell_type": "markdown",
   "metadata": {},
   "source": [
    "Dropping rows missing body_text"
   ]
  },
  {
   "cell_type": "code",
   "execution_count": 16,
   "metadata": {},
   "outputs": [],
   "source": [
    "df_clean.dropna(subset=['body_text'], inplace=True)"
   ]
  },
  {
   "cell_type": "code",
   "execution_count": 17,
   "metadata": {},
   "outputs": [
    {
     "data": {
      "text/plain": [
       "(70257, 6)"
      ]
     },
     "execution_count": 17,
     "metadata": {},
     "output_type": "execute_result"
    }
   ],
   "source": [
    "df_clean.shape"
   ]
  },
  {
   "cell_type": "markdown",
   "metadata": {},
   "source": [
    "Eliminating URLs and dropping rows with nothing other than URL in body text"
   ]
  },
  {
   "cell_type": "code",
   "execution_count": 18,
   "metadata": {},
   "outputs": [],
   "source": [
    "# regex query \n",
    "\n",
    "select_url_query = '(http|https|ftp|ftps)\\:\\/\\/[a-zA-Z0-9\\-\\.]+\\.[a-zA-Z]{2,3}(\\/\\S*)?'"
   ]
  },
  {
   "cell_type": "code",
   "execution_count": 19,
   "metadata": {},
   "outputs": [],
   "source": [
    "# function to remove URLs\n",
    "\n",
    "cut_urls = (lambda x: re.sub(select_url_query, '', x))"
   ]
  },
  {
   "cell_type": "code",
   "execution_count": 20,
   "metadata": {},
   "outputs": [],
   "source": [
    "# applying function\n",
    "\n",
    "df_clean['body_text_clean'] = df_clean.body_text.map(cut_urls)"
   ]
  },
  {
   "cell_type": "code",
   "execution_count": 21,
   "metadata": {},
   "outputs": [
    {
     "data": {
      "text/html": [
       "<div>\n",
       "<style scoped>\n",
       "    .dataframe tbody tr th:only-of-type {\n",
       "        vertical-align: middle;\n",
       "    }\n",
       "\n",
       "    .dataframe tbody tr th {\n",
       "        vertical-align: top;\n",
       "    }\n",
       "\n",
       "    .dataframe thead th {\n",
       "        text-align: right;\n",
       "    }\n",
       "</style>\n",
       "<table border=\"1\" class=\"dataframe\">\n",
       "  <thead>\n",
       "    <tr style=\"text-align: right;\">\n",
       "      <th></th>\n",
       "      <th>title</th>\n",
       "      <th>pub_date</th>\n",
       "      <th>author</th>\n",
       "      <th>source</th>\n",
       "      <th>body_text</th>\n",
       "      <th>url</th>\n",
       "      <th>body_text_clean</th>\n",
       "    </tr>\n",
       "  </thead>\n",
       "  <tbody>\n",
       "    <tr>\n",
       "      <th>81972</th>\n",
       "      <td>Scitex expands in Latin America p.</td>\n",
       "      <td>1993-02-27</td>\n",
       "      <td>Jim Rosenberg</td>\n",
       "      <td>NaN</td>\n",
       "      <td>Jim RosenbergBy: Jim Rosenberg    SCITEX EXPAN...</td>\n",
       "      <td>http://www.editorandpublisher.com//stories/sci...</td>\n",
       "      <td>Jim RosenbergBy: Jim Rosenberg    SCITEX EXPAN...</td>\n",
       "    </tr>\n",
       "    <tr>\n",
       "      <th>81973</th>\n",
       "      <td>Child's death inspires Chicago Tribune contest...</td>\n",
       "      <td>1993-02-27</td>\n",
       "      <td>E&amp;P Staff</td>\n",
       "      <td>NaN</td>\n",
       "      <td>E&amp;P StaffBy: Editorial Staff    SEVENTY-ONE YE...</td>\n",
       "      <td>http://www.editorandpublisher.com//stories/chi...</td>\n",
       "      <td>E&amp;P StaffBy: Editorial Staff    SEVENTY-ONE YE...</td>\n",
       "    </tr>\n",
       "    <tr>\n",
       "      <th>81974</th>\n",
       "      <td>USPS nixes rule for small papers  p.</td>\n",
       "      <td>1993-02-13</td>\n",
       "      <td>E&amp;P Staff</td>\n",
       "      <td>NaN</td>\n",
       "      <td>E&amp;P StaffBy: Editorial Staff    AFTER A MEETIN...</td>\n",
       "      <td>http://www.editorandpublisher.com//stories/usp...</td>\n",
       "      <td>E&amp;P StaffBy: Editorial Staff    AFTER A MEETIN...</td>\n",
       "    </tr>\n",
       "  </tbody>\n",
       "</table>\n",
       "</div>"
      ],
      "text/plain": [
       "                                                   title    pub_date  \\\n",
       "81972                 Scitex expands in Latin America p.  1993-02-27   \n",
       "81973  Child's death inspires Chicago Tribune contest...  1993-02-27   \n",
       "81974               USPS nixes rule for small papers  p.  1993-02-13   \n",
       "\n",
       "              author source  \\\n",
       "81972  Jim Rosenberg    NaN   \n",
       "81973      E&P Staff    NaN   \n",
       "81974      E&P Staff    NaN   \n",
       "\n",
       "                                               body_text  \\\n",
       "81972  Jim RosenbergBy: Jim Rosenberg    SCITEX EXPAN...   \n",
       "81973  E&P StaffBy: Editorial Staff    SEVENTY-ONE YE...   \n",
       "81974  E&P StaffBy: Editorial Staff    AFTER A MEETIN...   \n",
       "\n",
       "                                                     url  \\\n",
       "81972  http://www.editorandpublisher.com//stories/sci...   \n",
       "81973  http://www.editorandpublisher.com//stories/chi...   \n",
       "81974  http://www.editorandpublisher.com//stories/usp...   \n",
       "\n",
       "                                         body_text_clean  \n",
       "81972  Jim RosenbergBy: Jim Rosenberg    SCITEX EXPAN...  \n",
       "81973  E&P StaffBy: Editorial Staff    SEVENTY-ONE YE...  \n",
       "81974  E&P StaffBy: Editorial Staff    AFTER A MEETIN...  "
      ]
     },
     "execution_count": 21,
     "metadata": {},
     "output_type": "execute_result"
    }
   ],
   "source": [
    "df_clean.tail(3)"
   ]
  },
  {
   "cell_type": "code",
   "execution_count": 22,
   "metadata": {},
   "outputs": [],
   "source": [
    "# converting empty strings to None type\n",
    "\n",
    "conv = lambda i : i or None\n",
    "df_clean.body_text_clean = [conv(i) for i in df_clean.body_text_clean] "
   ]
  },
  {
   "cell_type": "code",
   "execution_count": 23,
   "metadata": {},
   "outputs": [],
   "source": [
    "df_clean.dropna(subset=['body_text_clean'], inplace=True)"
   ]
  },
  {
   "cell_type": "code",
   "execution_count": 24,
   "metadata": {},
   "outputs": [
    {
     "data": {
      "text/html": [
       "<div>\n",
       "<style scoped>\n",
       "    .dataframe tbody tr th:only-of-type {\n",
       "        vertical-align: middle;\n",
       "    }\n",
       "\n",
       "    .dataframe tbody tr th {\n",
       "        vertical-align: top;\n",
       "    }\n",
       "\n",
       "    .dataframe thead th {\n",
       "        text-align: right;\n",
       "    }\n",
       "</style>\n",
       "<table border=\"1\" class=\"dataframe\">\n",
       "  <thead>\n",
       "    <tr style=\"text-align: right;\">\n",
       "      <th></th>\n",
       "      <th>title</th>\n",
       "      <th>pub_date</th>\n",
       "      <th>author</th>\n",
       "      <th>source</th>\n",
       "      <th>body_text</th>\n",
       "      <th>url</th>\n",
       "      <th>body_text_clean</th>\n",
       "    </tr>\n",
       "  </thead>\n",
       "  <tbody>\n",
       "    <tr>\n",
       "      <th>81972</th>\n",
       "      <td>Scitex expands in Latin America p.</td>\n",
       "      <td>1993-02-27</td>\n",
       "      <td>Jim Rosenberg</td>\n",
       "      <td>NaN</td>\n",
       "      <td>Jim RosenbergBy: Jim Rosenberg    SCITEX EXPAN...</td>\n",
       "      <td>http://www.editorandpublisher.com//stories/sci...</td>\n",
       "      <td>Jim RosenbergBy: Jim Rosenberg    SCITEX EXPAN...</td>\n",
       "    </tr>\n",
       "    <tr>\n",
       "      <th>81973</th>\n",
       "      <td>Child's death inspires Chicago Tribune contest...</td>\n",
       "      <td>1993-02-27</td>\n",
       "      <td>E&amp;P Staff</td>\n",
       "      <td>NaN</td>\n",
       "      <td>E&amp;P StaffBy: Editorial Staff    SEVENTY-ONE YE...</td>\n",
       "      <td>http://www.editorandpublisher.com//stories/chi...</td>\n",
       "      <td>E&amp;P StaffBy: Editorial Staff    SEVENTY-ONE YE...</td>\n",
       "    </tr>\n",
       "    <tr>\n",
       "      <th>81974</th>\n",
       "      <td>USPS nixes rule for small papers  p.</td>\n",
       "      <td>1993-02-13</td>\n",
       "      <td>E&amp;P Staff</td>\n",
       "      <td>NaN</td>\n",
       "      <td>E&amp;P StaffBy: Editorial Staff    AFTER A MEETIN...</td>\n",
       "      <td>http://www.editorandpublisher.com//stories/usp...</td>\n",
       "      <td>E&amp;P StaffBy: Editorial Staff    AFTER A MEETIN...</td>\n",
       "    </tr>\n",
       "  </tbody>\n",
       "</table>\n",
       "</div>"
      ],
      "text/plain": [
       "                                                   title    pub_date  \\\n",
       "81972                 Scitex expands in Latin America p.  1993-02-27   \n",
       "81973  Child's death inspires Chicago Tribune contest...  1993-02-27   \n",
       "81974               USPS nixes rule for small papers  p.  1993-02-13   \n",
       "\n",
       "              author source  \\\n",
       "81972  Jim Rosenberg    NaN   \n",
       "81973      E&P Staff    NaN   \n",
       "81974      E&P Staff    NaN   \n",
       "\n",
       "                                               body_text  \\\n",
       "81972  Jim RosenbergBy: Jim Rosenberg    SCITEX EXPAN...   \n",
       "81973  E&P StaffBy: Editorial Staff    SEVENTY-ONE YE...   \n",
       "81974  E&P StaffBy: Editorial Staff    AFTER A MEETIN...   \n",
       "\n",
       "                                                     url  \\\n",
       "81972  http://www.editorandpublisher.com//stories/sci...   \n",
       "81973  http://www.editorandpublisher.com//stories/chi...   \n",
       "81974  http://www.editorandpublisher.com//stories/usp...   \n",
       "\n",
       "                                         body_text_clean  \n",
       "81972  Jim RosenbergBy: Jim Rosenberg    SCITEX EXPAN...  \n",
       "81973  E&P StaffBy: Editorial Staff    SEVENTY-ONE YE...  \n",
       "81974  E&P StaffBy: Editorial Staff    AFTER A MEETIN...  "
      ]
     },
     "execution_count": 24,
     "metadata": {},
     "output_type": "execute_result"
    }
   ],
   "source": [
    "df_clean.tail(3)"
   ]
  },
  {
   "cell_type": "code",
   "execution_count": 25,
   "metadata": {},
   "outputs": [
    {
     "data": {
      "text/plain": [
       "(69848, 7)"
      ]
     },
     "execution_count": 25,
     "metadata": {},
     "output_type": "execute_result"
    }
   ],
   "source": [
    "df_clean.shape"
   ]
  },
  {
   "cell_type": "markdown",
   "metadata": {},
   "source": [
    "### Removing unnecessary text"
   ]
  },
  {
   "cell_type": "code",
   "execution_count": 26,
   "metadata": {},
   "outputs": [],
   "source": [
    "remove_author = (lambda x: \n",
    "                 x.replace('E&P Staff', '')\n",
    "                 .replace('By:', '')\n",
    "                 .replace('Editorial Staff', ''))\n",
    "\n",
    "df_clean['body_text_clean'] = df_clean.body_text_clean.map(remove_author)"
   ]
  },
  {
   "cell_type": "markdown",
   "metadata": {},
   "source": [
    "### Adding titles to body text\n",
    "\n",
    "Now that rows with missing/invalid body text are gone, I will add title text into the body of those articles that remain on the list. "
   ]
  },
  {
   "cell_type": "code",
   "execution_count": 27,
   "metadata": {},
   "outputs": [],
   "source": [
    "df_clean['full_text_clean'] = df_clean.body_text_clean.str.cat(df_clean.title, sep=' ')"
   ]
  },
  {
   "cell_type": "markdown",
   "metadata": {},
   "source": [
    "### Cleaning strings"
   ]
  },
  {
   "cell_type": "code",
   "execution_count": 28,
   "metadata": {},
   "outputs": [],
   "source": [
    "def clean_text_round1(text):\n",
    "    '''Make text lowercase, remove text in square brackets, remove punctuation and remove words containing numbers, etc.'''\n",
    "    text = text.lower()\n",
    "    text = re.sub('\\[.*?\\]', '', text)\n",
    "    text = re.sub('[%s]' % re.escape(string.punctuation), '', text)\n",
    "    text = re.sub('\\w*\\d\\w*', '', text)\n",
    "    text = re.sub('[‘’“”…–]', '', text)\n",
    "    text = re.sub('\\n', '', text)\n",
    "    return text"
   ]
  },
  {
   "cell_type": "code",
   "execution_count": 29,
   "metadata": {},
   "outputs": [],
   "source": [
    "# Text preprocessing steps - remove numbers, captial letters and punctuation\n",
    "\n",
    "df_clean['full_text_clean'] = df_clean.full_text_clean.map(clean_text_round1)"
   ]
  },
  {
   "cell_type": "code",
   "execution_count": 30,
   "metadata": {},
   "outputs": [
    {
     "data": {
      "text/plain": [
       "81970     mark fitzgerald    traveling exhibit honors e...\n",
       "81971     debra gersh    freedom forum media studies ce...\n",
       "81972    jim rosenberg jim rosenberg    scitex expanded...\n",
       "81973         seventyone years after sponsoring the int...\n",
       "81974         after a meeting with representatives from...\n",
       "Name: full_text_clean, dtype: object"
      ]
     },
     "execution_count": 30,
     "metadata": {},
     "output_type": "execute_result"
    }
   ],
   "source": [
    "df_clean.full_text_clean.tail()"
   ]
  },
  {
   "cell_type": "markdown",
   "metadata": {},
   "source": [
    "### Tokenizing"
   ]
  },
  {
   "cell_type": "code",
   "execution_count": 31,
   "metadata": {},
   "outputs": [],
   "source": [
    "df_clean['tokens'] = df_clean.full_text_clean.apply(nltk.word_tokenize)"
   ]
  },
  {
   "cell_type": "markdown",
   "metadata": {},
   "source": [
    "### Stemming"
   ]
  },
  {
   "cell_type": "code",
   "execution_count": 32,
   "metadata": {},
   "outputs": [],
   "source": [
    "stemmer = PorterStemmer()\n",
    "\n",
    "df_clean['stemmed'] = df_clean['tokens'].apply(lambda x: [stemmer.stem(y) for y in x])"
   ]
  },
  {
   "cell_type": "markdown",
   "metadata": {},
   "source": [
    "### Formatting for vectorizers\n",
    "\n",
    "Joining lists in new columns back to feed into count/TF-IDF vectorizers"
   ]
  },
  {
   "cell_type": "code",
   "execution_count": 33,
   "metadata": {},
   "outputs": [],
   "source": [
    "df_clean.tokens = df_clean.tokens.apply(lambda x: ' '.join(x))"
   ]
  },
  {
   "cell_type": "code",
   "execution_count": 34,
   "metadata": {},
   "outputs": [],
   "source": [
    "df_clean.stemmed = df_clean.stemmed.apply(lambda x: ' '.join(x))"
   ]
  },
  {
   "cell_type": "markdown",
   "metadata": {},
   "source": [
    "### Saving to CSV\n",
    "\n",
    "Now it's time to move into dimensionality reduction and topic modeling"
   ]
  },
  {
   "cell_type": "code",
   "execution_count": 35,
   "metadata": {},
   "outputs": [],
   "source": [
    "# saving to csv\n",
    "\n",
    "df_clean.to_csv('data/all_articles_clean.csv')"
   ]
  },
  {
   "cell_type": "code",
   "execution_count": 36,
   "metadata": {},
   "outputs": [
    {
     "data": {
      "text/html": [
       "<div>\n",
       "<style scoped>\n",
       "    .dataframe tbody tr th:only-of-type {\n",
       "        vertical-align: middle;\n",
       "    }\n",
       "\n",
       "    .dataframe tbody tr th {\n",
       "        vertical-align: top;\n",
       "    }\n",
       "\n",
       "    .dataframe thead th {\n",
       "        text-align: right;\n",
       "    }\n",
       "</style>\n",
       "<table border=\"1\" class=\"dataframe\">\n",
       "  <thead>\n",
       "    <tr style=\"text-align: right;\">\n",
       "      <th></th>\n",
       "      <th>title</th>\n",
       "      <th>pub_date</th>\n",
       "      <th>author</th>\n",
       "      <th>source</th>\n",
       "      <th>body_text</th>\n",
       "      <th>url</th>\n",
       "      <th>body_text_clean</th>\n",
       "      <th>full_text_clean</th>\n",
       "      <th>tokens</th>\n",
       "      <th>stemmed</th>\n",
       "    </tr>\n",
       "  </thead>\n",
       "  <tbody>\n",
       "    <tr>\n",
       "      <th>0</th>\n",
       "      <td>Four Politicians in Four Debates Isn’t Enough!</td>\n",
       "      <td>2020-08-09</td>\n",
       "      <td>Mike Blinder</td>\n",
       "      <td>NaN</td>\n",
       "      <td>As of today, The Commission on Presidential De...</td>\n",
       "      <td>http://www.editorandpublisher.com//stories/fou...</td>\n",
       "      <td>As of today, The Commission on Presidential De...</td>\n",
       "      <td>as of today the commission on presidential deb...</td>\n",
       "      <td>as of today the commission on presidential deb...</td>\n",
       "      <td>as of today the commiss on presidenti debat ha...</td>\n",
       "    </tr>\n",
       "    <tr>\n",
       "      <th>1</th>\n",
       "      <td>Chatham Names Former Tribune Executive as New ...</td>\n",
       "      <td>2020-08-07</td>\n",
       "      <td>Kevin G. Hall</td>\n",
       "      <td>McClatchyDC</td>\n",
       "      <td>Chatham Asset Management, the hedge fund that ...</td>\n",
       "      <td>http://www.editorandpublisher.com//stories/cha...</td>\n",
       "      <td>Chatham Asset Management, the hedge fund that ...</td>\n",
       "      <td>chatham asset management the hedge fund that w...</td>\n",
       "      <td>chatham asset management the hedge fund that w...</td>\n",
       "      <td>chatham asset manag the hedg fund that won mcc...</td>\n",
       "    </tr>\n",
       "    <tr>\n",
       "      <th>2</th>\n",
       "      <td>News Corp Reports Fourth Quarter and Full Year...</td>\n",
       "      <td>2020-08-07</td>\n",
       "      <td>Press Release</td>\n",
       "      <td>News Corp</td>\n",
       "      <td>News Corporation (“News Corp” or the “Company”...</td>\n",
       "      <td>http://www.editorandpublisher.com//stories/new...</td>\n",
       "      <td>News Corporation (“News Corp” or the “Company”...</td>\n",
       "      <td>news corporation news corp or the company nasd...</td>\n",
       "      <td>news corporation news corp or the company nasd...</td>\n",
       "      <td>news corpor news corp or the compani nasdaq nw...</td>\n",
       "    </tr>\n",
       "    <tr>\n",
       "      <th>3</th>\n",
       "      <td>WAMU General Manager Resigns After Tumultuous ...</td>\n",
       "      <td>2020-08-07</td>\n",
       "      <td>Elahe Izadi and Paul Farhi</td>\n",
       "      <td>Washington Post</td>\n",
       "      <td>The head of Washington’s NPR affiliate resigne...</td>\n",
       "      <td>http://www.editorandpublisher.com//stories/wam...</td>\n",
       "      <td>The head of Washington’s NPR affiliate resigne...</td>\n",
       "      <td>the head of washingtons npr affiliate resigned...</td>\n",
       "      <td>the head of washingtons npr affiliate resigned...</td>\n",
       "      <td>the head of washington npr affili resign frida...</td>\n",
       "    </tr>\n",
       "    <tr>\n",
       "      <th>4</th>\n",
       "      <td>Misinformation is Everybody’s Problem Now</td>\n",
       "      <td>2020-08-07</td>\n",
       "      <td>Joan Donovan and Claire Wardle</td>\n",
       "      <td>Items</td>\n",
       "      <td>In June 2020, The World Health Organization (W...</td>\n",
       "      <td>http://www.editorandpublisher.com//stories/mis...</td>\n",
       "      <td>In June 2020, The World Health Organization (W...</td>\n",
       "      <td>in june  the world health organization who beg...</td>\n",
       "      <td>in june the world health organization who bega...</td>\n",
       "      <td>in june the world health organ who began a web...</td>\n",
       "    </tr>\n",
       "  </tbody>\n",
       "</table>\n",
       "</div>"
      ],
      "text/plain": [
       "                                               title    pub_date  \\\n",
       "0     Four Politicians in Four Debates Isn’t Enough!  2020-08-09   \n",
       "1  Chatham Names Former Tribune Executive as New ...  2020-08-07   \n",
       "2  News Corp Reports Fourth Quarter and Full Year...  2020-08-07   \n",
       "3  WAMU General Manager Resigns After Tumultuous ...  2020-08-07   \n",
       "4          Misinformation is Everybody’s Problem Now  2020-08-07   \n",
       "\n",
       "                           author           source  \\\n",
       "0                    Mike Blinder              NaN   \n",
       "1                   Kevin G. Hall      McClatchyDC   \n",
       "2                   Press Release        News Corp   \n",
       "3      Elahe Izadi and Paul Farhi  Washington Post   \n",
       "4  Joan Donovan and Claire Wardle            Items   \n",
       "\n",
       "                                           body_text  \\\n",
       "0  As of today, The Commission on Presidential De...   \n",
       "1  Chatham Asset Management, the hedge fund that ...   \n",
       "2  News Corporation (“News Corp” or the “Company”...   \n",
       "3  The head of Washington’s NPR affiliate resigne...   \n",
       "4  In June 2020, The World Health Organization (W...   \n",
       "\n",
       "                                                 url  \\\n",
       "0  http://www.editorandpublisher.com//stories/fou...   \n",
       "1  http://www.editorandpublisher.com//stories/cha...   \n",
       "2  http://www.editorandpublisher.com//stories/new...   \n",
       "3  http://www.editorandpublisher.com//stories/wam...   \n",
       "4  http://www.editorandpublisher.com//stories/mis...   \n",
       "\n",
       "                                     body_text_clean  \\\n",
       "0  As of today, The Commission on Presidential De...   \n",
       "1  Chatham Asset Management, the hedge fund that ...   \n",
       "2  News Corporation (“News Corp” or the “Company”...   \n",
       "3  The head of Washington’s NPR affiliate resigne...   \n",
       "4  In June 2020, The World Health Organization (W...   \n",
       "\n",
       "                                     full_text_clean  \\\n",
       "0  as of today the commission on presidential deb...   \n",
       "1  chatham asset management the hedge fund that w...   \n",
       "2  news corporation news corp or the company nasd...   \n",
       "3  the head of washingtons npr affiliate resigned...   \n",
       "4  in june  the world health organization who beg...   \n",
       "\n",
       "                                              tokens  \\\n",
       "0  as of today the commission on presidential deb...   \n",
       "1  chatham asset management the hedge fund that w...   \n",
       "2  news corporation news corp or the company nasd...   \n",
       "3  the head of washingtons npr affiliate resigned...   \n",
       "4  in june the world health organization who bega...   \n",
       "\n",
       "                                             stemmed  \n",
       "0  as of today the commiss on presidenti debat ha...  \n",
       "1  chatham asset manag the hedg fund that won mcc...  \n",
       "2  news corpor news corp or the compani nasdaq nw...  \n",
       "3  the head of washington npr affili resign frida...  \n",
       "4  in june the world health organ who began a web...  "
      ]
     },
     "execution_count": 36,
     "metadata": {},
     "output_type": "execute_result"
    }
   ],
   "source": [
    "df_clean.head()"
   ]
  },
  {
   "cell_type": "code",
   "execution_count": null,
   "metadata": {},
   "outputs": [],
   "source": []
  }
 ],
 "metadata": {
  "kernelspec": {
   "display_name": "Python 3",
   "language": "python",
   "name": "python3"
  },
  "language_info": {
   "codemirror_mode": {
    "name": "ipython",
    "version": 3
   },
   "file_extension": ".py",
   "mimetype": "text/x-python",
   "name": "python",
   "nbconvert_exporter": "python",
   "pygments_lexer": "ipython3",
   "version": "3.8.4"
  }
 },
 "nbformat": 4,
 "nbformat_minor": 4
}
